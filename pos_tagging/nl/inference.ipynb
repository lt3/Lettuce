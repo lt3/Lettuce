{
 "cells": [
  {
   "cell_type": "code",
   "execution_count": 1,
   "metadata": {},
   "outputs": [],
   "source": [
    "### Lettuce POS Tagger Utility Scripts\n",
    "### Language: Dutch\n",
    "### Author: Pranaydeep Singh\n",
    "### Last Update: 2024-05-06\n",
    "### Description: Inference script for POS tagging using pre-trained Transformers for the Lettuce project\n",
    "### Requirements: transformers, ipymarkup"
   ]
  },
  {
   "cell_type": "code",
   "execution_count": 2,
   "metadata": {},
   "outputs": [],
   "source": [
    "# Importing required libraries here. Ipymarkup is non-essential. Only needed for the visualization of the output.\n",
    "\n",
    "from transformers import AutoModelForTokenClassification, AutoTokenizer, pipeline\n",
    "from ipymarkup import show_span_box_markup"
   ]
  },
  {
   "cell_type": "code",
   "execution_count": 3,
   "metadata": {},
   "outputs": [
    {
     "name": "stderr",
     "output_type": "stream",
     "text": [
      "Downloading config.json: 100%|██████████| 11.4k/11.4k [00:00<00:00, 1.62MB/s]\n",
      "Downloading pytorch_model.bin: 100%|██████████| 465M/465M [00:38<00:00, 12.0MB/s] \n",
      "Downloading tokenizer_config.json: 100%|██████████| 1.47k/1.47k [00:00<00:00, 188kB/s]\n",
      "Downloading vocab.json: 100%|██████████| 653k/653k [00:00<00:00, 2.37MB/s]\n",
      "Downloading merges.txt: 100%|██████████| 383k/383k [00:00<00:00, 13.6MB/s]\n",
      "Downloading tokenizer.json: 100%|██████████| 1.71M/1.71M [00:00<00:00, 6.82MB/s]\n",
      "Downloading (…)cial_tokens_map.json: 100%|██████████| 280/280 [00:00<00:00, 93.6kB/s]\n",
      "Downloading config.json: 100%|██████████| 11.4k/11.4k [00:00<00:00, 3.51MB/s]\n",
      "Downloading pytorch_model.bin: 100%|██████████| 1.11G/1.11G [01:46<00:00, 10.4MB/s]\n",
      "Downloading tokenizer_config.json: 100%|██████████| 468/468 [00:00<00:00, 64.1kB/s]\n",
      "Downloading (…)tencepiece.bpe.model: 100%|██████████| 5.07M/5.07M [00:00<00:00, 17.7MB/s]\n",
      "Downloading tokenizer.json: 100%|██████████| 17.1M/17.1M [00:01<00:00, 11.0MB/s]\n",
      "Downloading (…)cial_tokens_map.json: 100%|██████████| 280/280 [00:00<00:00, 125kB/s]\n"
     ]
    }
   ],
   "source": [
    "# We will load the two pretrained models for Dutch in a pipeline for POS tagging. The models are available on the Huggingface model hub.\n",
    "\n",
    "classifier_mono = pipeline(\"token-classification\", model=\"pranaydeeps/lettuce_pos_nl_mono\")  #This is a finetuned monolingual Dutch model\n",
    "classifier_xlm = pipeline(\"token-classification\", model=\"pranaydeeps/lettuce_pos_nl_xlm\")    #This is a finetuned multilingual XLM model"
   ]
  },
  {
   "cell_type": "code",
   "execution_count": 4,
   "metadata": {},
   "outputs": [],
   "source": [
    "# Sample text from Wikipedia. From the Dutch article about the city of Gent.\n",
    "\n",
    "text = \"Gent is de hoofdstad en grootste centrumstad van de Belgische provincie Oost-Vlaanderen en van het arrondissement Gent.\""
   ]
  },
  {
   "cell_type": "code",
   "execution_count": 5,
   "metadata": {},
   "outputs": [],
   "source": [
    "# We will now pass the text to the two models and get the output.\n",
    "\n",
    "output_mono = classifier_mono(text)\n",
    "output_xlm = classifier_xlm(text)"
   ]
  },
  {
   "cell_type": "code",
   "execution_count": 6,
   "metadata": {},
   "outputs": [
    {
     "data": {
      "text/html": [
       "<div class=\"tex2jax_ignore\" style=\"white-space: pre-wrap\"><span style=\"padding: 2px; border-radius: 4px; border: 1px solid #bbdefb; background: #e3f2fd\">Gent<span style=\"vertical-align: middle; margin-left: 2px; font-size: 0.7em; color: #64b5f6;\">N(eigen,ev,basis,onz,stan)</span></span> <span style=\"padding: 2px; border-radius: 4px; border: 1px solid #c8e6c9; background: #e8f5e9\">is<span style=\"vertical-align: middle; margin-left: 2px; font-size: 0.7em; color: #66bb6a;\">WW(pv,tgw,ev)</span></span> <span style=\"padding: 2px; border-radius: 4px; border: 1px solid #ffcdd2; background: #ffebee\">de<span style=\"vertical-align: middle; margin-left: 2px; font-size: 0.7em; color: #e57373;\">LID(bep)</span></span> <span style=\"padding: 2px; border-radius: 4px; border: 1px solid #ffe0b2; background: #fff3e0\">hoofdstad<span style=\"vertical-align: middle; margin-left: 2px; font-size: 0.7em; color: #ffb74d;\">N(soort,ev,basis,zijd,stan)</span></span> <span style=\"padding: 2px; border-radius: 4px; border: 1px solid #d1c4e9; background: #ede7f6\">en<span style=\"vertical-align: middle; margin-left: 2px; font-size: 0.7em; color: #9575cd;\">VG(neven)</span></span> <span style=\"padding: 2px; border-radius: 4px; border: 1px solid #d7ccc8; background: #efebe9\">grootste<span style=\"vertical-align: middle; margin-left: 2px; font-size: 0.7em; color: #a1887f;\">ADJ(prenom,sup,met-e,stan)</span></span> <span style=\"padding: 2px; border-radius: 4px; border: 1px solid #ffe0b2; background: #fff3e0\">centrum<span style=\"vertical-align: middle; margin-left: 2px; font-size: 0.7em; color: #ffb74d;\">N(soort,ev,basis,zijd,stan)</span></span><span style=\"padding: 2px; border-radius: 4px; border: 1px solid #ffe0b2; background: #fff3e0\">stad<span style=\"vertical-align: middle; margin-left: 2px; font-size: 0.7em; color: #ffb74d;\">N(soort,ev,basis,zijd,stan)</span></span> <span style=\"padding: 2px; border-radius: 4px; border: 1px solid #bbdefb; background: #e3f2fd\">van<span style=\"vertical-align: middle; margin-left: 2px; font-size: 0.7em; color: #64b5f6;\">VZ(init)</span></span> <span style=\"padding: 2px; border-radius: 4px; border: 1px solid #ffcdd2; background: #ffebee\">de<span style=\"vertical-align: middle; margin-left: 2px; font-size: 0.7em; color: #e57373;\">LID(bep)</span></span> <span style=\"padding: 2px; border-radius: 4px; border: 1px solid #c8e6c9; background: #e8f5e9\">Belgische<span style=\"vertical-align: middle; margin-left: 2px; font-size: 0.7em; color: #66bb6a;\">ADJ(prenom,basis,met-e,stan)</span></span> <span style=\"padding: 2px; border-radius: 4px; border: 1px solid #ffe0b2; background: #fff3e0\">provincie<span style=\"vertical-align: middle; margin-left: 2px; font-size: 0.7em; color: #ffb74d;\">N(soort,ev,basis,zijd,stan)</span></span> <span style=\"padding: 2px; border-radius: 4px; border: 1px solid #bbdefb; background: #e3f2fd\">Oost<span style=\"vertical-align: middle; margin-left: 2px; font-size: 0.7em; color: #64b5f6;\">N(eigen,ev,basis,onz,stan)</span></span><span style=\"padding: 2px; border-radius: 4px; border: 1px solid #bbdefb; background: #e3f2fd\">-<span style=\"vertical-align: middle; margin-left: 2px; font-size: 0.7em; color: #64b5f6;\">N(eigen,ev,basis,onz,stan)</span></span><span style=\"padding: 2px; border-radius: 4px; border: 1px solid #bbdefb; background: #e3f2fd\">Vlaanderen<span style=\"vertical-align: middle; margin-left: 2px; font-size: 0.7em; color: #64b5f6;\">N(eigen,ev,basis,onz,stan)</span></span> <span style=\"padding: 2px; border-radius: 4px; border: 1px solid #d1c4e9; background: #ede7f6\">en<span style=\"vertical-align: middle; margin-left: 2px; font-size: 0.7em; color: #9575cd;\">VG(neven)</span></span> <span style=\"padding: 2px; border-radius: 4px; border: 1px solid #bbdefb; background: #e3f2fd\">van<span style=\"vertical-align: middle; margin-left: 2px; font-size: 0.7em; color: #64b5f6;\">VZ(init)</span></span> <span style=\"padding: 2px; border-radius: 4px; border: 1px solid #ffcdd2; background: #ffebee\">het<span style=\"vertical-align: middle; margin-left: 2px; font-size: 0.7em; color: #e57373;\">LID(bep)</span></span> <span style=\"padding: 2px; border-radius: 4px; border: 1px solid #ffcdd2; background: #ffebee\">arrondissement<span style=\"vertical-align: middle; margin-left: 2px; font-size: 0.7em; color: #e57373;\">N(soort,ev,basis,onz,stan)</span></span> <span style=\"padding: 2px; border-radius: 4px; border: 1px solid #bbdefb; background: #e3f2fd\">Gent<span style=\"vertical-align: middle; margin-left: 2px; font-size: 0.7em; color: #64b5f6;\">N(eigen,ev,basis,onz,stan)</span></span><span style=\"padding: 2px; border-radius: 4px; border: 1px solid #ffcdd2; background: #ffebee\">.<span style=\"vertical-align: middle; margin-left: 2px; font-size: 0.7em; color: #e57373;\">LID(bep)</span></span></div>"
      ],
      "text/plain": [
       "<IPython.core.display.HTML object>"
      ]
     },
     "metadata": {},
     "output_type": "display_data"
    }
   ],
   "source": [
    "# We will now visualize the output using ipymarkup. First let's see the output of the monolingual model.\n",
    "\n",
    "show_span_box_markup(text, [(token['start'], token['end'], token['entity']) for token in output_mono])"
   ]
  },
  {
   "cell_type": "code",
   "execution_count": 7,
   "metadata": {},
   "outputs": [
    {
     "data": {
      "text/html": [
       "<div class=\"tex2jax_ignore\" style=\"white-space: pre-wrap\"><span style=\"padding: 2px; border-radius: 4px; border: 1px solid #bbdefb; background: #e3f2fd\">Gent<span style=\"vertical-align: middle; margin-left: 2px; font-size: 0.7em; color: #64b5f6;\">N(eigen,ev,basis,onz,stan)</span></span> <span style=\"padding: 2px; border-radius: 4px; border: 1px solid #c8e6c9; background: #e8f5e9\">is<span style=\"vertical-align: middle; margin-left: 2px; font-size: 0.7em; color: #66bb6a;\">WW(pv,tgw,ev)</span></span> <span style=\"padding: 2px; border-radius: 4px; border: 1px solid #ffcdd2; background: #ffebee\">de<span style=\"vertical-align: middle; margin-left: 2px; font-size: 0.7em; color: #e57373;\">LID(bep)</span></span> <span style=\"padding: 2px; border-radius: 4px; border: 1px solid #ffe0b2; background: #fff3e0\">hoofd<span style=\"vertical-align: middle; margin-left: 2px; font-size: 0.7em; color: #ffb74d;\">N(soort,ev,basis,zijd,stan)</span></span><span style=\"padding: 2px; border-radius: 4px; border: 1px solid #ffe0b2; background: #fff3e0\">stad<span style=\"vertical-align: middle; margin-left: 2px; font-size: 0.7em; color: #ffb74d;\">N(soort,ev,basis,zijd,stan)</span></span> <span style=\"padding: 2px; border-radius: 4px; border: 1px solid #d1c4e9; background: #ede7f6\">en<span style=\"vertical-align: middle; margin-left: 2px; font-size: 0.7em; color: #9575cd;\">VG(neven)</span></span> <span style=\"padding: 2px; border-radius: 4px; border: 1px solid #d7ccc8; background: #efebe9\">grootste<span style=\"vertical-align: middle; margin-left: 2px; font-size: 0.7em; color: #a1887f;\">ADJ(prenom,sup,met-e,stan)</span></span> <span style=\"padding: 2px; border-radius: 4px; border: 1px solid #ffe0b2; background: #fff3e0\">centrum<span style=\"vertical-align: middle; margin-left: 2px; font-size: 0.7em; color: #ffb74d;\">N(soort,ev,basis,zijd,stan)</span></span><span style=\"padding: 2px; border-radius: 4px; border: 1px solid #ffe0b2; background: #fff3e0\">stad<span style=\"vertical-align: middle; margin-left: 2px; font-size: 0.7em; color: #ffb74d;\">N(soort,ev,basis,zijd,stan)</span></span> <span style=\"padding: 2px; border-radius: 4px; border: 1px solid #bbdefb; background: #e3f2fd\">van<span style=\"vertical-align: middle; margin-left: 2px; font-size: 0.7em; color: #64b5f6;\">VZ(init)</span></span> <span style=\"padding: 2px; border-radius: 4px; border: 1px solid #ffcdd2; background: #ffebee\">de<span style=\"vertical-align: middle; margin-left: 2px; font-size: 0.7em; color: #e57373;\">LID(bep)</span></span> <span style=\"padding: 2px; border-radius: 4px; border: 1px solid #c8e6c9; background: #e8f5e9\">Belgische<span style=\"vertical-align: middle; margin-left: 2px; font-size: 0.7em; color: #66bb6a;\">ADJ(prenom,basis,met-e,stan)</span></span> <span style=\"padding: 2px; border-radius: 4px; border: 1px solid #ffe0b2; background: #fff3e0\">provincie<span style=\"vertical-align: middle; margin-left: 2px; font-size: 0.7em; color: #ffb74d;\">N(soort,ev,basis,zijd,stan)</span></span> <span style=\"padding: 2px; border-radius: 4px; border: 1px solid #bbdefb; background: #e3f2fd\">Oost<span style=\"vertical-align: middle; margin-left: 2px; font-size: 0.7em; color: #64b5f6;\">N(eigen,ev,basis,onz,stan)</span></span><span style=\"padding: 2px; border-radius: 4px; border: 1px solid #bbdefb; background: #e3f2fd\">-<span style=\"vertical-align: middle; margin-left: 2px; font-size: 0.7em; color: #64b5f6;\">N(eigen,ev,basis,onz,stan)</span></span><span style=\"padding: 2px; border-radius: 4px; border: 1px solid #bbdefb; background: #e3f2fd\">Vlaanderen<span style=\"vertical-align: middle; margin-left: 2px; font-size: 0.7em; color: #64b5f6;\">N(eigen,ev,basis,onz,stan)</span></span> <span style=\"padding: 2px; border-radius: 4px; border: 1px solid #d1c4e9; background: #ede7f6\">en<span style=\"vertical-align: middle; margin-left: 2px; font-size: 0.7em; color: #9575cd;\">VG(neven)</span></span> <span style=\"padding: 2px; border-radius: 4px; border: 1px solid #bbdefb; background: #e3f2fd\">van<span style=\"vertical-align: middle; margin-left: 2px; font-size: 0.7em; color: #64b5f6;\">VZ(init)</span></span> <span style=\"padding: 2px; border-radius: 4px; border: 1px solid #ffcdd2; background: #ffebee\">het<span style=\"vertical-align: middle; margin-left: 2px; font-size: 0.7em; color: #e57373;\">LID(bep)</span></span> <span style=\"padding: 2px; border-radius: 4px; border: 1px solid #ffcdd2; background: #ffebee\">arro<span style=\"vertical-align: middle; margin-left: 2px; font-size: 0.7em; color: #e57373;\">N(soort,ev,basis,onz,stan)</span></span><span style=\"padding: 2px; border-radius: 4px; border: 1px solid #ffcdd2; background: #ffebee\">nd<span style=\"vertical-align: middle; margin-left: 2px; font-size: 0.7em; color: #e57373;\">N(soort,ev,basis,onz,stan)</span></span><span style=\"padding: 2px; border-radius: 4px; border: 1px solid #ffcdd2; background: #ffebee\">issement<span style=\"vertical-align: middle; margin-left: 2px; font-size: 0.7em; color: #e57373;\">N(soort,ev,basis,onz,stan)</span></span> <span style=\"padding: 2px; border-radius: 4px; border: 1px solid #bbdefb; background: #e3f2fd\">Gent<span style=\"vertical-align: middle; margin-left: 2px; font-size: 0.7em; color: #64b5f6;\">N(eigen,ev,basis,onz,stan)</span></span><span style=\"padding: 2px; border-radius: 4px; border: 1px solid #ffe0b2; background: #fff3e0\">.<span style=\"vertical-align: middle; margin-left: 2px; font-size: 0.7em; color: #ffb74d;\">LET()</span></span></div>"
      ],
      "text/plain": [
       "<IPython.core.display.HTML object>"
      ]
     },
     "metadata": {},
     "output_type": "display_data"
    }
   ],
   "source": [
    "# Now let's see the output of the XLM model.\n",
    "\n",
    "show_span_box_markup(text, [(token['start'], token['end'], token['entity']) for token in output_xlm])"
   ]
  },
  {
   "cell_type": "markdown",
   "metadata": {},
   "source": [
    "In the end you can use the model that works better for you!\n",
    "\n",
    "Note: The models tokenize the text differently so some words might be broken into 3-4 sub-words by the multilingual model but in 2 or 0 sub-words by the monolingual model. The monolingual model should usually be better at tokenisation.In the end you can use the model that works better for you!"
   ]
  }
 ],
 "metadata": {
  "kernelspec": {
   "display_name": "Python 3",
   "language": "python",
   "name": "python3"
  },
  "language_info": {
   "codemirror_mode": {
    "name": "ipython",
    "version": 3
   },
   "file_extension": ".py",
   "mimetype": "text/x-python",
   "name": "python",
   "nbconvert_exporter": "python",
   "pygments_lexer": "ipython3",
   "version": "3.9.18"
  }
 },
 "nbformat": 4,
 "nbformat_minor": 2
}
