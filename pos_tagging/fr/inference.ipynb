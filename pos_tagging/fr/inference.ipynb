{
 "cells": [
  {
   "cell_type": "code",
   "execution_count": 1,
   "metadata": {},
   "outputs": [],
   "source": [
    "### Lettuce POS Tagger Utility Scripts\n",
    "### Language: French\n",
    "### Author: Pranaydeep Singh\n",
    "### Last Update: 2024-05-06\n",
    "### Description: Inference script for POS tagging using pre-trained Transformers for the Lettuce project\n",
    "### Requirements: transformers, ipymarkup"
   ]
  },
  {
   "cell_type": "code",
   "execution_count": 2,
   "metadata": {},
   "outputs": [],
   "source": [
    "# Importing required libraries here. Ipymarkup is non-essential. Only needed for the visualization of the output.\n",
    "\n",
    "from transformers import AutoModelForTokenClassification, AutoTokenizer, pipeline\n",
    "from ipymarkup import show_span_box_markup"
   ]
  },
  {
   "cell_type": "code",
   "execution_count": 3,
   "metadata": {},
   "outputs": [
    {
     "name": "stderr",
     "output_type": "stream",
     "text": [
      "Downloading config.json: 100%|██████████| 2.20k/2.20k [00:00<00:00, 264kB/s]\n",
      "Downloading pytorch_model.bin: 100%|██████████| 440M/440M [08:48<00:00, 834kB/s]  \n",
      "Downloading tokenizer_config.json: 100%|██████████| 548/548 [00:00<00:00, 74.4kB/s]\n",
      "Downloading (…)tencepiece.bpe.model: 100%|██████████| 811k/811k [00:01<00:00, 674kB/s]\n",
      "Downloading tokenizer.json: 100%|██████████| 2.42M/2.42M [00:04<00:00, 590kB/s]\n",
      "Downloading (…)cial_tokens_map.json: 100%|██████████| 354/354 [00:00<00:00, 122kB/s]\n",
      "Downloading config.json: 100%|██████████| 2.20k/2.20k [00:00<00:00, 1.28MB/s]\n",
      "Downloading pytorch_model.bin:   9%|▊         | 94.4M/1.11G [01:38<17:42, 956kB/s] \n",
      "Downloading pytorch_model.bin: 100%|██████████| 1.11G/1.11G [03:04<00:00, 6.01MB/s]\n",
      "Downloading tokenizer_config.json: 100%|██████████| 468/468 [00:00<00:00, 73.3kB/s]\n",
      "Downloading (…)tencepiece.bpe.model: 100%|██████████| 5.07M/5.07M [00:00<00:00, 7.56MB/s]\n",
      "Downloading tokenizer.json: 100%|██████████| 17.1M/17.1M [00:02<00:00, 8.25MB/s]\n",
      "Downloading (…)cial_tokens_map.json: 100%|██████████| 280/280 [00:00<00:00, 111kB/s]\n"
     ]
    }
   ],
   "source": [
    "# We will load the two pretrained models for German in a pipeline for POS tagging. The models are available on the Huggingface model hub.\n",
    "\n",
    "classifier_mono = pipeline(\"token-classification\", model=\"pranaydeeps/lettuce_pos_fr_mono\")  #This is a finetuned monolingual French model\n",
    "classifier_xlm = pipeline(\"token-classification\", model=\"pranaydeeps/lettuce_pos_fr_xlm\")    #This is a finetuned multilingual XLM model"
   ]
  },
  {
   "cell_type": "code",
   "execution_count": 4,
   "metadata": {},
   "outputs": [],
   "source": [
    "# Sample text from Wikipedia. From the French article about the city of Gent.\n",
    "\n",
    "text = \"Gand, est une ville belge néerlandophone, située en Région flamande au confluent de la Lys et de l'Escaut.\""
   ]
  },
  {
   "cell_type": "code",
   "execution_count": 8,
   "metadata": {},
   "outputs": [],
   "source": [
    "# We will now pass the text to the two models and get the output.\n",
    "\n",
    "output_mono = classifier_mono(text)\n",
    "output_xlm = classifier_xlm(text)"
   ]
  },
  {
   "cell_type": "code",
   "execution_count": 9,
   "metadata": {},
   "outputs": [
    {
     "data": {
      "text/html": [
       "<div class=\"tex2jax_ignore\" style=\"white-space: pre-wrap\"><span style=\"padding: 2px; border-radius: 4px; border: 1px solid #bbdefb; background: #e3f2fd\">Gand<span style=\"vertical-align: middle; margin-left: 2px; font-size: 0.7em; color: #64b5f6;\">NAM</span></span><span style=\"padding: 2px; border-radius: 4px; border: 1px solid #c8e6c9; background: #e8f5e9\">,<span style=\"vertical-align: middle; margin-left: 2px; font-size: 0.7em; color: #66bb6a;\">KON</span></span> <span style=\"padding: 2px; border-radius: 4px; border: 1px solid #ffcdd2; background: #ffebee\">est<span style=\"vertical-align: middle; margin-left: 2px; font-size: 0.7em; color: #e57373;\">VER:pres</span></span> <span style=\"padding: 2px; border-radius: 4px; border: 1px solid #ffe0b2; background: #fff3e0\">une<span style=\"vertical-align: middle; margin-left: 2px; font-size: 0.7em; color: #ffb74d;\">DET:ART</span></span> <span style=\"padding: 2px; border-radius: 4px; border: 1px solid #d1c4e9; background: #ede7f6\">ville<span style=\"vertical-align: middle; margin-left: 2px; font-size: 0.7em; color: #9575cd;\">NOM</span></span> <span style=\"padding: 2px; border-radius: 4px; border: 1px solid #d7ccc8; background: #efebe9\">belge<span style=\"vertical-align: middle; margin-left: 2px; font-size: 0.7em; color: #a1887f;\">ADJ</span></span> <span style=\"padding: 2px; border-radius: 4px; border: 1px solid #d7ccc8; background: #efebe9\">né<span style=\"vertical-align: middle; margin-left: 2px; font-size: 0.7em; color: #a1887f;\">ADJ</span></span><span style=\"padding: 2px; border-radius: 4px; border: 1px solid #d7ccc8; background: #efebe9\">er<span style=\"vertical-align: middle; margin-left: 2px; font-size: 0.7em; color: #a1887f;\">ADJ</span></span><span style=\"padding: 2px; border-radius: 4px; border: 1px solid #d1c4e9; background: #ede7f6\">land<span style=\"vertical-align: middle; margin-left: 2px; font-size: 0.7em; color: #9575cd;\">NOM</span></span><span style=\"padding: 2px; border-radius: 4px; border: 1px solid #d7ccc8; background: #efebe9\">ophone<span style=\"vertical-align: middle; margin-left: 2px; font-size: 0.7em; color: #a1887f;\">ADJ</span></span><span style=\"padding: 2px; border-radius: 4px; border: 1px solid #c8e6c9; background: #e8f5e9\">,<span style=\"vertical-align: middle; margin-left: 2px; font-size: 0.7em; color: #66bb6a;\">KON</span></span> <span style=\"padding: 2px; border-radius: 4px; border: 1px solid #bbdefb; background: #e3f2fd\">située<span style=\"vertical-align: middle; margin-left: 2px; font-size: 0.7em; color: #64b5f6;\">VER:pper</span></span> <span style=\"padding: 2px; border-radius: 4px; border: 1px solid #c8e6c9; background: #e8f5e9\">en<span style=\"vertical-align: middle; margin-left: 2px; font-size: 0.7em; color: #66bb6a;\">PRP</span></span> <span style=\"padding: 2px; border-radius: 4px; border: 1px solid #d1c4e9; background: #ede7f6\">Région<span style=\"vertical-align: middle; margin-left: 2px; font-size: 0.7em; color: #9575cd;\">NOM</span></span> <span style=\"padding: 2px; border-radius: 4px; border: 1px solid #d7ccc8; background: #efebe9\">flamand<span style=\"vertical-align: middle; margin-left: 2px; font-size: 0.7em; color: #a1887f;\">ADJ</span></span><span style=\"padding: 2px; border-radius: 4px; border: 1px solid #d7ccc8; background: #efebe9\">e<span style=\"vertical-align: middle; margin-left: 2px; font-size: 0.7em; color: #a1887f;\">ADJ</span></span> <span style=\"padding: 2px; border-radius: 4px; border: 1px solid #ffcdd2; background: #ffebee\">au<span style=\"vertical-align: middle; margin-left: 2px; font-size: 0.7em; color: #e57373;\">PRP:det</span></span> <span style=\"padding: 2px; border-radius: 4px; border: 1px solid #d1c4e9; background: #ede7f6\">conf<span style=\"vertical-align: middle; margin-left: 2px; font-size: 0.7em; color: #9575cd;\">NOM</span></span><span style=\"padding: 2px; border-radius: 4px; border: 1px solid #d1c4e9; background: #ede7f6\">lu<span style=\"vertical-align: middle; margin-left: 2px; font-size: 0.7em; color: #9575cd;\">NOM</span></span><span style=\"padding: 2px; border-radius: 4px; border: 1px solid #d1c4e9; background: #ede7f6\">ent<span style=\"vertical-align: middle; margin-left: 2px; font-size: 0.7em; color: #9575cd;\">NOM</span></span> <span style=\"padding: 2px; border-radius: 4px; border: 1px solid #c8e6c9; background: #e8f5e9\">de<span style=\"vertical-align: middle; margin-left: 2px; font-size: 0.7em; color: #66bb6a;\">PRP</span></span> <span style=\"padding: 2px; border-radius: 4px; border: 1px solid #ffe0b2; background: #fff3e0\">la<span style=\"vertical-align: middle; margin-left: 2px; font-size: 0.7em; color: #ffb74d;\">DET:ART</span></span> <span style=\"padding: 2px; border-radius: 4px; border: 1px solid #bbdefb; background: #e3f2fd\">Ly<span style=\"vertical-align: middle; margin-left: 2px; font-size: 0.7em; color: #64b5f6;\">NAM</span></span><span style=\"padding: 2px; border-radius: 4px; border: 1px solid #d1c4e9; background: #ede7f6\">s<span style=\"vertical-align: middle; margin-left: 2px; font-size: 0.7em; color: #9575cd;\">NOM</span></span> <span style=\"padding: 2px; border-radius: 4px; border: 1px solid #c8e6c9; background: #e8f5e9\">et<span style=\"vertical-align: middle; margin-left: 2px; font-size: 0.7em; color: #66bb6a;\">KON</span></span> <span style=\"padding: 2px; border-radius: 4px; border: 1px solid #c8e6c9; background: #e8f5e9\">de<span style=\"vertical-align: middle; margin-left: 2px; font-size: 0.7em; color: #66bb6a;\">PRP</span></span> <span style=\"padding: 2px; border-radius: 4px; border: 1px solid #ffe0b2; background: #fff3e0\">l<span style=\"vertical-align: middle; margin-left: 2px; font-size: 0.7em; color: #ffb74d;\">DET:ART</span></span><span style=\"padding: 2px; border-radius: 4px; border: 1px solid #d1c4e9; background: #ede7f6\">&#x27;<span style=\"vertical-align: middle; margin-left: 2px; font-size: 0.7em; color: #9575cd;\">NOM</span></span><span style=\"padding: 2px; border-radius: 4px; border: 1px solid #bbdefb; background: #e3f2fd\">Esc<span style=\"vertical-align: middle; margin-left: 2px; font-size: 0.7em; color: #64b5f6;\">NAM</span></span><span style=\"padding: 2px; border-radius: 4px; border: 1px solid #d1c4e9; background: #ede7f6\">aut<span style=\"vertical-align: middle; margin-left: 2px; font-size: 0.7em; color: #9575cd;\">NOM</span></span><span style=\"padding: 2px; border-radius: 4px; border: 1px solid #d1c4e9; background: #ede7f6\">.<span style=\"vertical-align: middle; margin-left: 2px; font-size: 0.7em; color: #9575cd;\">NOM</span></span></div>"
      ],
      "text/plain": [
       "<IPython.core.display.HTML object>"
      ]
     },
     "metadata": {},
     "output_type": "display_data"
    }
   ],
   "source": [
    "# We will now visualize the output using ipymarkup. First let's see the output of the monolingual model.\n",
    "\n",
    "show_span_box_markup(text, [(token['start'], token['end'], token['entity']) for token in output_mono])"
   ]
  },
  {
   "cell_type": "code",
   "execution_count": 10,
   "metadata": {},
   "outputs": [
    {
     "data": {
      "text/html": [
       "<div class=\"tex2jax_ignore\" style=\"white-space: pre-wrap\"><span style=\"padding: 2px; border-radius: 4px; border: 1px solid #bbdefb; background: #e3f2fd\">Gand<span style=\"vertical-align: middle; margin-left: 2px; font-size: 0.7em; color: #64b5f6;\">NAM</span></span><span style=\"padding: 2px; border-radius: 4px; border: 1px solid #ffe0b2; background: #fff3e0\">,<span style=\"vertical-align: middle; margin-left: 2px; font-size: 0.7em; color: #ffb74d;\">PUN</span></span> <span style=\"padding: 2px; border-radius: 4px; border: 1px solid #ffcdd2; background: #ffebee\">est<span style=\"vertical-align: middle; margin-left: 2px; font-size: 0.7em; color: #e57373;\">VER:pres</span></span> <span style=\"padding: 2px; border-radius: 4px; border: 1px solid #ffe0b2; background: #fff3e0\">une<span style=\"vertical-align: middle; margin-left: 2px; font-size: 0.7em; color: #ffb74d;\">DET:ART</span></span> <span style=\"padding: 2px; border-radius: 4px; border: 1px solid #d1c4e9; background: #ede7f6\">ville<span style=\"vertical-align: middle; margin-left: 2px; font-size: 0.7em; color: #9575cd;\">NOM</span></span> <span style=\"padding: 2px; border-radius: 4px; border: 1px solid #d7ccc8; background: #efebe9\">belge<span style=\"vertical-align: middle; margin-left: 2px; font-size: 0.7em; color: #a1887f;\">ADJ</span></span> <span style=\"padding: 2px; border-radius: 4px; border: 1px solid #d7ccc8; background: #efebe9\">né<span style=\"vertical-align: middle; margin-left: 2px; font-size: 0.7em; color: #a1887f;\">ADJ</span></span><span style=\"padding: 2px; border-radius: 4px; border: 1px solid #d7ccc8; background: #efebe9\">erland<span style=\"vertical-align: middle; margin-left: 2px; font-size: 0.7em; color: #a1887f;\">ADJ</span></span><span style=\"padding: 2px; border-radius: 4px; border: 1px solid #d7ccc8; background: #efebe9\">o<span style=\"vertical-align: middle; margin-left: 2px; font-size: 0.7em; color: #a1887f;\">ADJ</span></span><span style=\"padding: 2px; border-radius: 4px; border: 1px solid #d7ccc8; background: #efebe9\">phone<span style=\"vertical-align: middle; margin-left: 2px; font-size: 0.7em; color: #a1887f;\">ADJ</span></span><span style=\"padding: 2px; border-radius: 4px; border: 1px solid #ffe0b2; background: #fff3e0\">,<span style=\"vertical-align: middle; margin-left: 2px; font-size: 0.7em; color: #ffb74d;\">PUN</span></span> <span style=\"padding: 2px; border-radius: 4px; border: 1px solid #bbdefb; background: #e3f2fd\">située<span style=\"vertical-align: middle; margin-left: 2px; font-size: 0.7em; color: #64b5f6;\">VER:pper</span></span> <span style=\"padding: 2px; border-radius: 4px; border: 1px solid #c8e6c9; background: #e8f5e9\">en<span style=\"vertical-align: middle; margin-left: 2px; font-size: 0.7em; color: #66bb6a;\">PRP</span></span> <span style=\"padding: 2px; border-radius: 4px; border: 1px solid #d1c4e9; background: #ede7f6\">Régi<span style=\"vertical-align: middle; margin-left: 2px; font-size: 0.7em; color: #9575cd;\">NOM</span></span><span style=\"padding: 2px; border-radius: 4px; border: 1px solid #d1c4e9; background: #ede7f6\">on<span style=\"vertical-align: middle; margin-left: 2px; font-size: 0.7em; color: #9575cd;\">NOM</span></span> <span style=\"padding: 2px; border-radius: 4px; border: 1px solid #d7ccc8; background: #efebe9\">flam<span style=\"vertical-align: middle; margin-left: 2px; font-size: 0.7em; color: #a1887f;\">ADJ</span></span><span style=\"padding: 2px; border-radius: 4px; border: 1px solid #d7ccc8; background: #efebe9\">ande<span style=\"vertical-align: middle; margin-left: 2px; font-size: 0.7em; color: #a1887f;\">ADJ</span></span> <span style=\"padding: 2px; border-radius: 4px; border: 1px solid #ffcdd2; background: #ffebee\">au<span style=\"vertical-align: middle; margin-left: 2px; font-size: 0.7em; color: #e57373;\">PRP:det</span></span> <span style=\"padding: 2px; border-radius: 4px; border: 1px solid #d1c4e9; background: #ede7f6\">con<span style=\"vertical-align: middle; margin-left: 2px; font-size: 0.7em; color: #9575cd;\">NOM</span></span><span style=\"padding: 2px; border-radius: 4px; border: 1px solid #d1c4e9; background: #ede7f6\">fluent<span style=\"vertical-align: middle; margin-left: 2px; font-size: 0.7em; color: #9575cd;\">NOM</span></span> <span style=\"padding: 2px; border-radius: 4px; border: 1px solid #c8e6c9; background: #e8f5e9\">de<span style=\"vertical-align: middle; margin-left: 2px; font-size: 0.7em; color: #66bb6a;\">PRP</span></span> <span style=\"padding: 2px; border-radius: 4px; border: 1px solid #ffe0b2; background: #fff3e0\">la<span style=\"vertical-align: middle; margin-left: 2px; font-size: 0.7em; color: #ffb74d;\">DET:ART</span></span> <span style=\"padding: 2px; border-radius: 4px; border: 1px solid #bbdefb; background: #e3f2fd\">Lys<span style=\"vertical-align: middle; margin-left: 2px; font-size: 0.7em; color: #64b5f6;\">NAM</span></span> <span style=\"padding: 2px; border-radius: 4px; border: 1px solid #c8e6c9; background: #e8f5e9\">et<span style=\"vertical-align: middle; margin-left: 2px; font-size: 0.7em; color: #66bb6a;\">KON</span></span> <span style=\"padding: 2px; border-radius: 4px; border: 1px solid #c8e6c9; background: #e8f5e9\">de<span style=\"vertical-align: middle; margin-left: 2px; font-size: 0.7em; color: #66bb6a;\">PRP</span></span> <span style=\"padding: 2px; border-radius: 4px; border: 1px solid #ffe0b2; background: #fff3e0\">l<span style=\"vertical-align: middle; margin-left: 2px; font-size: 0.7em; color: #ffb74d;\">DET:ART</span></span><span style=\"padding: 2px; border-radius: 4px; border: 1px solid #d1c4e9; background: #ede7f6\">&#x27;<span style=\"vertical-align: middle; margin-left: 2px; font-size: 0.7em; color: #9575cd;\">NOM</span></span><span style=\"padding: 2px; border-radius: 4px; border: 1px solid #d1c4e9; background: #ede7f6\">Esc<span style=\"vertical-align: middle; margin-left: 2px; font-size: 0.7em; color: #9575cd;\">NOM</span></span><span style=\"padding: 2px; border-radius: 4px; border: 1px solid #d1c4e9; background: #ede7f6\">a<span style=\"vertical-align: middle; margin-left: 2px; font-size: 0.7em; color: #9575cd;\">NOM</span></span><span style=\"padding: 2px; border-radius: 4px; border: 1px solid #d1c4e9; background: #ede7f6\">ut<span style=\"vertical-align: middle; margin-left: 2px; font-size: 0.7em; color: #9575cd;\">NOM</span></span><span style=\"padding: 2px; border-radius: 4px; border: 1px solid #d1c4e9; background: #ede7f6\">.<span style=\"vertical-align: middle; margin-left: 2px; font-size: 0.7em; color: #9575cd;\">SENT</span></span></div>"
      ],
      "text/plain": [
       "<IPython.core.display.HTML object>"
      ]
     },
     "metadata": {},
     "output_type": "display_data"
    }
   ],
   "source": [
    "# Now let's see the output of the XLM model.\n",
    "\n",
    "show_span_box_markup(text, [(token['start'], token['end'], token['entity']) for token in output_xlm])"
   ]
  },
  {
   "cell_type": "markdown",
   "metadata": {},
   "source": [
    "In the end you can use the model that works better for you!\n",
    "\n",
    "Note: The models tokenize the text differently so some words might be broken into 3-4 sub-words by the multilingual model but in 2 or 0 sub-words by the monolingual model. The monolingual model should usually be better at tokenisation.In the end you can use the model that works better for you!"
   ]
  }
 ],
 "metadata": {
  "kernelspec": {
   "display_name": "Python 3",
   "language": "python",
   "name": "python3"
  },
  "language_info": {
   "codemirror_mode": {
    "name": "ipython",
    "version": 3
   },
   "file_extension": ".py",
   "mimetype": "text/x-python",
   "name": "python",
   "nbconvert_exporter": "python",
   "pygments_lexer": "ipython3",
   "version": "3.9.18"
  }
 },
 "nbformat": 4,
 "nbformat_minor": 2
}
