{
 "cells": [
  {
   "cell_type": "code",
   "execution_count": 1,
   "metadata": {},
   "outputs": [],
   "source": [
    "### Lettuce POS Taggers\n",
    "### Langauge: German\n",
    "### Author: Pranaydeep Singh\n",
    "### Last Update: 2024-05-06\n",
    "### Description: Inference script for POS tagging using pre-trained Transformers for the Lettuce project\n",
    "### Requirements: transformers, ipymarkup"
   ]
  },
  {
   "cell_type": "code",
   "execution_count": 2,
   "metadata": {},
   "outputs": [],
   "source": [
    "# Importing required libraries here. Ipymarkup is non-essential. Only needed for the visualization of the output.\n",
    "\n",
    "from transformers import AutoModelForTokenClassification, AutoTokenizer, pipeline\n",
    "from ipymarkup import show_span_box_markup"
   ]
  },
  {
   "cell_type": "code",
   "execution_count": 3,
   "metadata": {},
   "outputs": [
    {
     "name": "stderr",
     "output_type": "stream",
     "text": [
      "Downloading config.json: 100%|██████████| 2.58k/2.58k [00:00<00:00, 317kB/s]\n",
      "Downloading pytorch_model.bin: 100%|██████████| 1.11G/1.11G [01:49<00:00, 10.1MB/s]\n",
      "Downloading tokenizer_config.json: 100%|██████████| 468/468 [00:00<00:00, 62.1kB/s]\n",
      "Downloading (…)tencepiece.bpe.model: 100%|██████████| 5.07M/5.07M [00:02<00:00, 2.17MB/s]\n",
      "Downloading tokenizer.json: 100%|██████████| 17.1M/17.1M [00:02<00:00, 6.05MB/s]\n",
      "Downloading (…)cial_tokens_map.json: 100%|██████████| 280/280 [00:00<00:00, 111kB/s]\n"
     ]
    }
   ],
   "source": [
    "# We will load the two pretrained models for German in a pipeline for POS tagging. The models are available on the Huggingface model hub.\n",
    "\n",
    "classifier_mono = pipeline(\"token-classification\", model=\"pranaydeeps/lettuce_pos_de_mono\")  #This is a finetuned monolingual German model\n",
    "classifier_xlm = pipeline(\"token-classification\", model=\"pranaydeeps/lettuce_pos_de_xlm\")    #This is a finetuned multilingual XLM model"
   ]
  },
  {
   "cell_type": "code",
   "execution_count": 8,
   "metadata": {},
   "outputs": [],
   "source": [
    "# Sample text from Wikipedia. From the German article about the city of Gent.\n",
    "\n",
    "text = \"Gent ist nach Antwerpen die zweitgrößte Stadt Belgiens. Sie zählt 265.086 Einwohner und ist die Hauptstadt der Provinz Ostflandern, des Arrondissements Gent und des Wahlbezirks.\""
   ]
  },
  {
   "cell_type": "code",
   "execution_count": 10,
   "metadata": {},
   "outputs": [],
   "source": [
    "# We will now pass the text to the two models and get the output.\n",
    "\n",
    "output_mono = classifier_mono(text)\n",
    "output_xlm = classifier_xlm(text)"
   ]
  },
  {
   "cell_type": "code",
   "execution_count": 11,
   "metadata": {},
   "outputs": [
    {
     "data": {
      "text/html": [
       "<div class=\"tex2jax_ignore\" style=\"white-space: pre-wrap\"><span style=\"padding: 2px; border-radius: 4px; border: 1px solid #bbdefb; background: #e3f2fd\">Gent<span style=\"vertical-align: middle; margin-left: 2px; font-size: 0.7em; color: #64b5f6;\">NE</span></span> <span style=\"padding: 2px; border-radius: 4px; border: 1px solid #c8e6c9; background: #e8f5e9\">ist<span style=\"vertical-align: middle; margin-left: 2px; font-size: 0.7em; color: #66bb6a;\">VAFIN</span></span> <span style=\"padding: 2px; border-radius: 4px; border: 1px solid #ffcdd2; background: #ffebee\">nach<span style=\"vertical-align: middle; margin-left: 2px; font-size: 0.7em; color: #e57373;\">APPR</span></span> <span style=\"padding: 2px; border-radius: 4px; border: 1px solid #bbdefb; background: #e3f2fd\">Antwerpen<span style=\"vertical-align: middle; margin-left: 2px; font-size: 0.7em; color: #64b5f6;\">NE</span></span> <span style=\"padding: 2px; border-radius: 4px; border: 1px solid #ffe0b2; background: #fff3e0\">die<span style=\"vertical-align: middle; margin-left: 2px; font-size: 0.7em; color: #ffb74d;\">ART</span></span> <span style=\"padding: 2px; border-radius: 4px; border: 1px solid #d1c4e9; background: #ede7f6\">zweit<span style=\"vertical-align: middle; margin-left: 2px; font-size: 0.7em; color: #9575cd;\">ADJA</span></span><span style=\"padding: 2px; border-radius: 4px; border: 1px solid #d1c4e9; background: #ede7f6\">größte<span style=\"vertical-align: middle; margin-left: 2px; font-size: 0.7em; color: #9575cd;\">ADJA</span></span> <span style=\"padding: 2px; border-radius: 4px; border: 1px solid #d7ccc8; background: #efebe9\">Stadt<span style=\"vertical-align: middle; margin-left: 2px; font-size: 0.7em; color: #a1887f;\">NN</span></span> <span style=\"padding: 2px; border-radius: 4px; border: 1px solid #bbdefb; background: #e3f2fd\">Belgien<span style=\"vertical-align: middle; margin-left: 2px; font-size: 0.7em; color: #64b5f6;\">NE</span></span><span style=\"padding: 2px; border-radius: 4px; border: 1px solid #bbdefb; background: #e3f2fd\">s<span style=\"vertical-align: middle; margin-left: 2px; font-size: 0.7em; color: #64b5f6;\">$</span></span><span style=\"padding: 2px; border-radius: 4px; border: 1px solid #c8e6c9; background: #e8f5e9\">.<span style=\"vertical-align: middle; margin-left: 2px; font-size: 0.7em; color: #66bb6a;\">$.</span></span> <span style=\"padding: 2px; border-radius: 4px; border: 1px solid #ffcdd2; background: #ffebee\">Sie<span style=\"vertical-align: middle; margin-left: 2px; font-size: 0.7em; color: #e57373;\">PPER</span></span> <span style=\"padding: 2px; border-radius: 4px; border: 1px solid #ffe0b2; background: #fff3e0\">zählt<span style=\"vertical-align: middle; margin-left: 2px; font-size: 0.7em; color: #ffb74d;\">VVFIN</span></span> <span style=\"padding: 2px; border-radius: 4px; border: 1px solid #d1c4e9; background: #ede7f6\">26<span style=\"vertical-align: middle; margin-left: 2px; font-size: 0.7em; color: #9575cd;\">CARD</span></span><span style=\"padding: 2px; border-radius: 4px; border: 1px solid #d1c4e9; background: #ede7f6\">5<span style=\"vertical-align: middle; margin-left: 2px; font-size: 0.7em; color: #9575cd;\">CARD</span></span><span style=\"padding: 2px; border-radius: 4px; border: 1px solid #c8e6c9; background: #e8f5e9\">.<span style=\"vertical-align: middle; margin-left: 2px; font-size: 0.7em; color: #66bb6a;\">$.</span></span><span style=\"padding: 2px; border-radius: 4px; border: 1px solid #d1c4e9; background: #ede7f6\">08<span style=\"vertical-align: middle; margin-left: 2px; font-size: 0.7em; color: #9575cd;\">CARD</span></span><span style=\"padding: 2px; border-radius: 4px; border: 1px solid #d1c4e9; background: #ede7f6\">6<span style=\"vertical-align: middle; margin-left: 2px; font-size: 0.7em; color: #9575cd;\">CARD</span></span> <span style=\"padding: 2px; border-radius: 4px; border: 1px solid #d7ccc8; background: #efebe9\">Einwohner<span style=\"vertical-align: middle; margin-left: 2px; font-size: 0.7em; color: #a1887f;\">NN</span></span> <span style=\"padding: 2px; border-radius: 4px; border: 1px solid #d7ccc8; background: #efebe9\">und<span style=\"vertical-align: middle; margin-left: 2px; font-size: 0.7em; color: #a1887f;\">KON</span></span> <span style=\"padding: 2px; border-radius: 4px; border: 1px solid #c8e6c9; background: #e8f5e9\">ist<span style=\"vertical-align: middle; margin-left: 2px; font-size: 0.7em; color: #66bb6a;\">VAFIN</span></span> <span style=\"padding: 2px; border-radius: 4px; border: 1px solid #ffe0b2; background: #fff3e0\">die<span style=\"vertical-align: middle; margin-left: 2px; font-size: 0.7em; color: #ffb74d;\">ART</span></span> <span style=\"padding: 2px; border-radius: 4px; border: 1px solid #d7ccc8; background: #efebe9\">Hauptstadt<span style=\"vertical-align: middle; margin-left: 2px; font-size: 0.7em; color: #a1887f;\">NN</span></span> <span style=\"padding: 2px; border-radius: 4px; border: 1px solid #ffe0b2; background: #fff3e0\">der<span style=\"vertical-align: middle; margin-left: 2px; font-size: 0.7em; color: #ffb74d;\">ART</span></span> <span style=\"padding: 2px; border-radius: 4px; border: 1px solid #d7ccc8; background: #efebe9\">Provinz<span style=\"vertical-align: middle; margin-left: 2px; font-size: 0.7em; color: #a1887f;\">NN</span></span> <span style=\"padding: 2px; border-radius: 4px; border: 1px solid #bbdefb; background: #e3f2fd\">Ost<span style=\"vertical-align: middle; margin-left: 2px; font-size: 0.7em; color: #64b5f6;\">NE</span></span><span style=\"padding: 2px; border-radius: 4px; border: 1px solid #bbdefb; background: #e3f2fd\">fla<span style=\"vertical-align: middle; margin-left: 2px; font-size: 0.7em; color: #64b5f6;\">NE</span></span><span style=\"padding: 2px; border-radius: 4px; border: 1px solid #bbdefb; background: #e3f2fd\">nder<span style=\"vertical-align: middle; margin-left: 2px; font-size: 0.7em; color: #64b5f6;\">NE</span></span><span style=\"padding: 2px; border-radius: 4px; border: 1px solid #bbdefb; background: #e3f2fd\">n<span style=\"vertical-align: middle; margin-left: 2px; font-size: 0.7em; color: #64b5f6;\">NE</span></span><span style=\"padding: 2px; border-radius: 4px; border: 1px solid #bbdefb; background: #e3f2fd\">,<span style=\"vertical-align: middle; margin-left: 2px; font-size: 0.7em; color: #64b5f6;\">$,</span></span> <span style=\"padding: 2px; border-radius: 4px; border: 1px solid #ffe0b2; background: #fff3e0\">des<span style=\"vertical-align: middle; margin-left: 2px; font-size: 0.7em; color: #ffb74d;\">ART</span></span> <span style=\"padding: 2px; border-radius: 4px; border: 1px solid #d7ccc8; background: #efebe9\">Arrondissement<span style=\"vertical-align: middle; margin-left: 2px; font-size: 0.7em; color: #a1887f;\">NN</span></span><span style=\"padding: 2px; border-radius: 4px; border: 1px solid #d7ccc8; background: #efebe9\">s<span style=\"vertical-align: middle; margin-left: 2px; font-size: 0.7em; color: #a1887f;\">NN</span></span> <span style=\"padding: 2px; border-radius: 4px; border: 1px solid #bbdefb; background: #e3f2fd\">Gent<span style=\"vertical-align: middle; margin-left: 2px; font-size: 0.7em; color: #64b5f6;\">NE</span></span> <span style=\"padding: 2px; border-radius: 4px; border: 1px solid #d7ccc8; background: #efebe9\">und<span style=\"vertical-align: middle; margin-left: 2px; font-size: 0.7em; color: #a1887f;\">KON</span></span> <span style=\"padding: 2px; border-radius: 4px; border: 1px solid #ffe0b2; background: #fff3e0\">des<span style=\"vertical-align: middle; margin-left: 2px; font-size: 0.7em; color: #ffb74d;\">ART</span></span> <span style=\"padding: 2px; border-radius: 4px; border: 1px solid #d7ccc8; background: #efebe9\">Wahl<span style=\"vertical-align: middle; margin-left: 2px; font-size: 0.7em; color: #a1887f;\">NN</span></span><span style=\"padding: 2px; border-radius: 4px; border: 1px solid #d7ccc8; background: #efebe9\">bezirks<span style=\"vertical-align: middle; margin-left: 2px; font-size: 0.7em; color: #a1887f;\">NN</span></span><span style=\"padding: 2px; border-radius: 4px; border: 1px solid #c8e6c9; background: #e8f5e9\">.<span style=\"vertical-align: middle; margin-left: 2px; font-size: 0.7em; color: #66bb6a;\">$.</span></span></div>"
      ],
      "text/plain": [
       "<IPython.core.display.HTML object>"
      ]
     },
     "metadata": {},
     "output_type": "display_data"
    }
   ],
   "source": [
    "# We will now visualize the output using ipymarkup. First let's see the output of the monolingual model.\n",
    "\n",
    "show_span_box_markup(text, [(token['start'], token['end'], token['entity']) for token in output_mono])"
   ]
  },
  {
   "cell_type": "code",
   "execution_count": 12,
   "metadata": {},
   "outputs": [
    {
     "data": {
      "text/html": [
       "<div class=\"tex2jax_ignore\" style=\"white-space: pre-wrap\"><span style=\"padding: 2px; border-radius: 4px; border: 1px solid #bbdefb; background: #e3f2fd\">Gent<span style=\"vertical-align: middle; margin-left: 2px; font-size: 0.7em; color: #64b5f6;\">NE</span></span> <span style=\"padding: 2px; border-radius: 4px; border: 1px solid #c8e6c9; background: #e8f5e9\">ist<span style=\"vertical-align: middle; margin-left: 2px; font-size: 0.7em; color: #66bb6a;\">VAFIN</span></span> <span style=\"padding: 2px; border-radius: 4px; border: 1px solid #ffcdd2; background: #ffebee\">nach<span style=\"vertical-align: middle; margin-left: 2px; font-size: 0.7em; color: #e57373;\">APPR</span></span> <span style=\"padding: 2px; border-radius: 4px; border: 1px solid #bbdefb; background: #e3f2fd\">Antwerpen<span style=\"vertical-align: middle; margin-left: 2px; font-size: 0.7em; color: #64b5f6;\">NE</span></span> <span style=\"padding: 2px; border-radius: 4px; border: 1px solid #ffe0b2; background: #fff3e0\">die<span style=\"vertical-align: middle; margin-left: 2px; font-size: 0.7em; color: #ffb74d;\">ART</span></span> <span style=\"padding: 2px; border-radius: 4px; border: 1px solid #d1c4e9; background: #ede7f6\">zwei<span style=\"vertical-align: middle; margin-left: 2px; font-size: 0.7em; color: #9575cd;\">ADJA</span></span><span style=\"padding: 2px; border-radius: 4px; border: 1px solid #d1c4e9; background: #ede7f6\">t<span style=\"vertical-align: middle; margin-left: 2px; font-size: 0.7em; color: #9575cd;\">ADJA</span></span><span style=\"padding: 2px; border-radius: 4px; border: 1px solid #d1c4e9; background: #ede7f6\">g<span style=\"vertical-align: middle; margin-left: 2px; font-size: 0.7em; color: #9575cd;\">ADJA</span></span><span style=\"padding: 2px; border-radius: 4px; border: 1px solid #d1c4e9; background: #ede7f6\">rö<span style=\"vertical-align: middle; margin-left: 2px; font-size: 0.7em; color: #9575cd;\">ADJA</span></span><span style=\"padding: 2px; border-radius: 4px; border: 1px solid #d1c4e9; background: #ede7f6\">ßt<span style=\"vertical-align: middle; margin-left: 2px; font-size: 0.7em; color: #9575cd;\">ADJA</span></span><span style=\"padding: 2px; border-radius: 4px; border: 1px solid #d1c4e9; background: #ede7f6\">e<span style=\"vertical-align: middle; margin-left: 2px; font-size: 0.7em; color: #9575cd;\">ADJA</span></span> <span style=\"padding: 2px; border-radius: 4px; border: 1px solid #d7ccc8; background: #efebe9\">Stadt<span style=\"vertical-align: middle; margin-left: 2px; font-size: 0.7em; color: #a1887f;\">NN</span></span> <span style=\"padding: 2px; border-radius: 4px; border: 1px solid #bbdefb; background: #e3f2fd\">Belgi<span style=\"vertical-align: middle; margin-left: 2px; font-size: 0.7em; color: #64b5f6;\">NE</span></span><span style=\"padding: 2px; border-radius: 4px; border: 1px solid #bbdefb; background: #e3f2fd\">ens<span style=\"vertical-align: middle; margin-left: 2px; font-size: 0.7em; color: #64b5f6;\">NE</span></span><span style=\"padding: 2px; border-radius: 4px; border: 1px solid #c8e6c9; background: #e8f5e9\">.<span style=\"vertical-align: middle; margin-left: 2px; font-size: 0.7em; color: #66bb6a;\">$.</span></span> <span style=\"padding: 2px; border-radius: 4px; border: 1px solid #ffcdd2; background: #ffebee\">Sie<span style=\"vertical-align: middle; margin-left: 2px; font-size: 0.7em; color: #e57373;\">PPER</span></span> <span style=\"padding: 2px; border-radius: 4px; border: 1px solid #ffe0b2; background: #fff3e0\">zählt<span style=\"vertical-align: middle; margin-left: 2px; font-size: 0.7em; color: #ffb74d;\">VVFIN</span></span> <span style=\"padding: 2px; border-radius: 4px; border: 1px solid #d1c4e9; background: #ede7f6\">26<span style=\"vertical-align: middle; margin-left: 2px; font-size: 0.7em; color: #9575cd;\">CARD</span></span><span style=\"padding: 2px; border-radius: 4px; border: 1px solid #d1c4e9; background: #ede7f6\">5.0<span style=\"vertical-align: middle; margin-left: 2px; font-size: 0.7em; color: #9575cd;\">CARD</span></span><span style=\"padding: 2px; border-radius: 4px; border: 1px solid #d1c4e9; background: #ede7f6\">86<span style=\"vertical-align: middle; margin-left: 2px; font-size: 0.7em; color: #9575cd;\">CARD</span></span> <span style=\"padding: 2px; border-radius: 4px; border: 1px solid #d7ccc8; background: #efebe9\">Einwohner<span style=\"vertical-align: middle; margin-left: 2px; font-size: 0.7em; color: #a1887f;\">NN</span></span> <span style=\"padding: 2px; border-radius: 4px; border: 1px solid #d7ccc8; background: #efebe9\">und<span style=\"vertical-align: middle; margin-left: 2px; font-size: 0.7em; color: #a1887f;\">KON</span></span> <span style=\"padding: 2px; border-radius: 4px; border: 1px solid #c8e6c9; background: #e8f5e9\">ist<span style=\"vertical-align: middle; margin-left: 2px; font-size: 0.7em; color: #66bb6a;\">VAFIN</span></span> <span style=\"padding: 2px; border-radius: 4px; border: 1px solid #ffe0b2; background: #fff3e0\">die<span style=\"vertical-align: middle; margin-left: 2px; font-size: 0.7em; color: #ffb74d;\">ART</span></span> <span style=\"padding: 2px; border-radius: 4px; border: 1px solid #d7ccc8; background: #efebe9\">Hauptstadt<span style=\"vertical-align: middle; margin-left: 2px; font-size: 0.7em; color: #a1887f;\">NN</span></span> <span style=\"padding: 2px; border-radius: 4px; border: 1px solid #ffe0b2; background: #fff3e0\">der<span style=\"vertical-align: middle; margin-left: 2px; font-size: 0.7em; color: #ffb74d;\">ART</span></span> <span style=\"padding: 2px; border-radius: 4px; border: 1px solid #d7ccc8; background: #efebe9\">Provin<span style=\"vertical-align: middle; margin-left: 2px; font-size: 0.7em; color: #a1887f;\">NN</span></span><span style=\"padding: 2px; border-radius: 4px; border: 1px solid #d7ccc8; background: #efebe9\">z<span style=\"vertical-align: middle; margin-left: 2px; font-size: 0.7em; color: #a1887f;\">NN</span></span> <span style=\"padding: 2px; border-radius: 4px; border: 1px solid #bbdefb; background: #e3f2fd\">Ost<span style=\"vertical-align: middle; margin-left: 2px; font-size: 0.7em; color: #64b5f6;\">NE</span></span><span style=\"padding: 2px; border-radius: 4px; border: 1px solid #bbdefb; background: #e3f2fd\">flan<span style=\"vertical-align: middle; margin-left: 2px; font-size: 0.7em; color: #64b5f6;\">NE</span></span><span style=\"padding: 2px; border-radius: 4px; border: 1px solid #bbdefb; background: #e3f2fd\">dern<span style=\"vertical-align: middle; margin-left: 2px; font-size: 0.7em; color: #64b5f6;\">NE</span></span><span style=\"padding: 2px; border-radius: 4px; border: 1px solid #d7ccc8; background: #efebe9\">,<span style=\"vertical-align: middle; margin-left: 2px; font-size: 0.7em; color: #a1887f;\">KON</span></span> <span style=\"padding: 2px; border-radius: 4px; border: 1px solid #ffe0b2; background: #fff3e0\">des<span style=\"vertical-align: middle; margin-left: 2px; font-size: 0.7em; color: #ffb74d;\">ART</span></span> <span style=\"padding: 2px; border-radius: 4px; border: 1px solid #d7ccc8; background: #efebe9\">Ar<span style=\"vertical-align: middle; margin-left: 2px; font-size: 0.7em; color: #a1887f;\">NN</span></span><span style=\"padding: 2px; border-radius: 4px; border: 1px solid #d7ccc8; background: #efebe9\">ron<span style=\"vertical-align: middle; margin-left: 2px; font-size: 0.7em; color: #a1887f;\">NN</span></span><span style=\"padding: 2px; border-radius: 4px; border: 1px solid #d7ccc8; background: #efebe9\">d<span style=\"vertical-align: middle; margin-left: 2px; font-size: 0.7em; color: #a1887f;\">NN</span></span><span style=\"padding: 2px; border-radius: 4px; border: 1px solid #d7ccc8; background: #efebe9\">issement<span style=\"vertical-align: middle; margin-left: 2px; font-size: 0.7em; color: #a1887f;\">NN</span></span><span style=\"padding: 2px; border-radius: 4px; border: 1px solid #d7ccc8; background: #efebe9\">s<span style=\"vertical-align: middle; margin-left: 2px; font-size: 0.7em; color: #a1887f;\">NN</span></span> <span style=\"padding: 2px; border-radius: 4px; border: 1px solid #bbdefb; background: #e3f2fd\">Gent<span style=\"vertical-align: middle; margin-left: 2px; font-size: 0.7em; color: #64b5f6;\">NE</span></span> <span style=\"padding: 2px; border-radius: 4px; border: 1px solid #d7ccc8; background: #efebe9\">und<span style=\"vertical-align: middle; margin-left: 2px; font-size: 0.7em; color: #a1887f;\">KON</span></span> <span style=\"padding: 2px; border-radius: 4px; border: 1px solid #ffe0b2; background: #fff3e0\">des<span style=\"vertical-align: middle; margin-left: 2px; font-size: 0.7em; color: #ffb74d;\">ART</span></span> <span style=\"padding: 2px; border-radius: 4px; border: 1px solid #d7ccc8; background: #efebe9\">Wahl<span style=\"vertical-align: middle; margin-left: 2px; font-size: 0.7em; color: #a1887f;\">NN</span></span><span style=\"padding: 2px; border-radius: 4px; border: 1px solid #d7ccc8; background: #efebe9\">be<span style=\"vertical-align: middle; margin-left: 2px; font-size: 0.7em; color: #a1887f;\">NN</span></span><span style=\"padding: 2px; border-radius: 4px; border: 1px solid #d7ccc8; background: #efebe9\">zir<span style=\"vertical-align: middle; margin-left: 2px; font-size: 0.7em; color: #a1887f;\">NN</span></span><span style=\"padding: 2px; border-radius: 4px; border: 1px solid #d7ccc8; background: #efebe9\">ks<span style=\"vertical-align: middle; margin-left: 2px; font-size: 0.7em; color: #a1887f;\">NN</span></span><span style=\"padding: 2px; border-radius: 4px; border: 1px solid #c8e6c9; background: #e8f5e9\">.<span style=\"vertical-align: middle; margin-left: 2px; font-size: 0.7em; color: #66bb6a;\">$.</span></span></div>"
      ],
      "text/plain": [
       "<IPython.core.display.HTML object>"
      ]
     },
     "metadata": {},
     "output_type": "display_data"
    }
   ],
   "source": [
    "# Now let's see the output of the XLM model.\n",
    "\n",
    "show_span_box_markup(text, [(token['start'], token['end'], token['entity']) for token in output_xlm])"
   ]
  },
  {
   "cell_type": "markdown",
   "metadata": {},
   "source": [
    "In the end you can use the model that works better for you!\n",
    "\n",
    "Note: The models tokenize the text differently so some words might be broken into 3-4 sub-words by the multilingual model but in 2 or 0 sub-words by the monolingual model. The monolingual model should usually be better at tokenisation."
   ]
  }
 ],
 "metadata": {
  "kernelspec": {
   "display_name": "Python 3",
   "language": "python",
   "name": "python3"
  },
  "language_info": {
   "codemirror_mode": {
    "name": "ipython",
    "version": 3
   },
   "file_extension": ".py",
   "mimetype": "text/x-python",
   "name": "python",
   "nbconvert_exporter": "python",
   "pygments_lexer": "ipython3",
   "version": "3.9.18"
  }
 },
 "nbformat": 4,
 "nbformat_minor": 2
}
